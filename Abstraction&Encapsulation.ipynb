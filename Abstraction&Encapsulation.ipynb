{
 "cells": [
  {
   "cell_type": "code",
   "execution_count": 1,
   "id": "4d8d88df-b198-4439-97d9-53407869b374",
   "metadata": {},
   "outputs": [],
   "source": [
    "#ABSTRACTION - complex application\n",
    "from abc import ABC,abstractclassmethod"
   ]
  },
  {
   "cell_type": "code",
   "execution_count": 15,
   "id": "a046dd66-09ac-4785-92d7-674064c184b3",
   "metadata": {},
   "outputs": [
    {
     "name": "stdout",
     "output_type": "stream",
     "text": [
      "577773843289\n",
      "Your credit limit is:  20000\n",
      "Your account's current balance is : 50000\n",
      "your card number CREDIT CARD is valid!\n",
      "PAYPAL\n",
      "Amount, 5000 has been withdrawn to your local bank!\n",
      "Your account's current balance is : 40000\n"
     ]
    }
   ],
   "source": [
    "from abc import ABC,abstractclassmethod\n",
    "class paymentMethod(ABC):\n",
    "    def __init__(self, payment_type):\n",
    "        self.payment_type = payment_type \n",
    "              \n",
    "    @abstractclassmethod\n",
    "    def checkBalance(self):\n",
    "        pass\n",
    "class creditCard(paymentMethod):\n",
    "    \n",
    "    def __init__(self, payment_type, cardNo, creditLimit, balance=0):\n",
    "        super().__init__(payment_type)\n",
    "        self.cardNo = cardNo\n",
    "        self.creditLimit = creditLimit\n",
    "        self.balance = balance\n",
    "        print(self.payment_type)\n",
    "        \n",
    "    def validateCardNumber(self):\n",
    "        print(f\"your card number {self.cardNo} is valid!\")\n",
    "\n",
    "    def checkCreditLimit(self):\n",
    "        print(\"Your credit limit is: \", self.creditLimit)\n",
    "        \n",
    "    def checkBalance(self):\n",
    "        print(\"Your account's current balance is :\", self.balance)\n",
    "        \n",
    "\n",
    "class paypal(paymentMethod):\n",
    "    def __init__(self,payment_type, withdraw_amount, balance=0):\n",
    "        super().__init__(payment_type)\n",
    "        self.withdraw_amount = withdraw_amount\n",
    "        self.balance = balance\n",
    "        print(self.payment_type)\n",
    "    \n",
    "    def withdrawFundsToBank(self):\n",
    "        print(f\"Amount, {self.withdraw_amount} has been withdrawn to your local bank!\" )\n",
    "\n",
    "    def checkBalance(self):\n",
    "        print(\"Your account's current balance is :\", self.balance)\n",
    "\n",
    "obj1 = creditCard(577773843289, \"CREDIT CARD\", 20000, 50000 )\n",
    "obj1.checkCreditLimit()\n",
    "obj1.checkBalance()\n",
    "obj1.validateCardNumber()\n",
    "\n",
    "obj2 = paypal(\"PAYPAL\", 5000, 40000)\n",
    "obj2.withdrawFundsToBank()\n",
    "obj2.checkBalance()"
   ]
  },
  {
   "cell_type": "code",
   "execution_count": null,
   "id": "ce4d97b7-7e1a-469e-944e-d42907a7e89f",
   "metadata": {},
   "outputs": [],
   "source": [
    "# Examples of abstraction\n",
    "# ATM: ATM abstracts the banking operations from the user and allows them to interact in a simplified manner.\n",
    "#A smartphone enables users to browse the internet, use apps,\n",
    "    #and take pictures without needing to understand the underlying hardware or operating system details\n",
    "#car: only shows the speed and fuel level, not the engine mechanics' details.\n",
    "\n",
    "#Encapsulation:\n",
    "# Restaurant ordering system\n",
    "#The internal workings of how food is prepared and delivered are3 encapsulated, \n",
    "    #and the customer interacts only with the necessary interfaces like the menu or waitstaff.\n",
    "# The implementation details of signal transmission and communication between the remote and TV are hidden,\n",
    "    #with the user only interacting with the encapsulated buttons.\n",
    "\n",
    "# The driver only interacts with the steering wheel and pedals.\n"
   ]
  },
  {
   "cell_type": "code",
   "execution_count": null,
   "id": "3062180b-539a-428a-8147-9787f7cf29aa",
   "metadata": {},
   "outputs": [],
   "source": [
    "#polymorphism: overloading\n",
    "#overrinding: same function name in parent and child. when child class's object is created, it overrides the parent class's function.\n"
   ]
  },
  {
   "cell_type": "code",
   "execution_count": null,
   "id": "b6bf7432-0b0c-4793-85b9-a45d7f5d368a",
   "metadata": {},
   "outputs": [],
   "source": []
  }
 ],
 "metadata": {
  "kernelspec": {
   "display_name": "Python 3 (ipykernel)",
   "language": "python",
   "name": "python3"
  },
  "language_info": {
   "codemirror_mode": {
    "name": "ipython",
    "version": 3
   },
   "file_extension": ".py",
   "mimetype": "text/x-python",
   "name": "python",
   "nbconvert_exporter": "python",
   "pygments_lexer": "ipython3",
   "version": "3.11.7"
  }
 },
 "nbformat": 4,
 "nbformat_minor": 5
}
