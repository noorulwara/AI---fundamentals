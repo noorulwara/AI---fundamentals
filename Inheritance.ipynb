{
 "cells": [
  {
   "cell_type": "code",
   "execution_count": 1,
   "id": "2af8797a-9cee-40fa-8edb-ff2a9f1260e4",
   "metadata": {},
   "outputs": [
    {
     "data": {
      "text/plain": [
       "78.5"
      ]
     },
     "execution_count": 1,
     "metadata": {},
     "output_type": "execute_result"
    }
   ],
   "source": [
    "#INHERITANCE\n",
    "class shape:\n",
    "    def area(self):\n",
    "        pass\n",
    "\n",
    "class Rectangle(shape):\n",
    "    def __init__(self, length, width):\n",
    "        self.length = length\n",
    "        self.width = width\n",
    "    def area(self):\n",
    "        return self.length*self.width\n",
    "\n",
    "class Circle(shape):\n",
    "    def __init__(self, radius):\n",
    "        self.radius = radius\n",
    "    def area(self):\n",
    "        return 3.14*self.radius*self.radius\n",
    "\n",
    "rectangle = Rectangle(4,5)\n",
    "circle = Circle(5)\n",
    "\n",
    "rectangle.area()\n",
    "circle.area()\n",
    "            "
   ]
  },
  {
   "cell_type": "code",
   "execution_count": 2,
   "id": "c3a19b77-36d0-4501-8050-600b2f2695aa",
   "metadata": {},
   "outputs": [
    {
     "name": "stdout",
     "output_type": "stream",
     "text": [
      "Name of the product is: Laptop and its warranty is: yes\n",
      "20% sale on this product!\n",
      "This dress is for: Female and of size: Meduim\n",
      "10% sale on this product!\n",
      "This book falls in the category of: Fiction and it has 500 pages\n",
      "15% sale on this product!\n"
     ]
    }
   ],
   "source": [
    "class Product:\n",
    "    def __init__(self, sale, name):\n",
    "        self.sale = sale\n",
    "    def display_sale(self):\n",
    "        print(f\"{self.sale}% sale on this product!\")\n",
    "\n",
    "class Electronics(Product):\n",
    "    def __init__(self, sale, name, warranty):\n",
    "        super().__init__(sale)\n",
    "        self.warranty = warranty\n",
    "        self.name = name\n",
    "        \n",
    "    def display_product(self):\n",
    "        print(f\"Name of the product is: {self.name} and its warranty is: {self.warranty}\")\n",
    "        super().display_sale()\n",
    "            \n",
    "\n",
    "class Clothing(Product):\n",
    "    def __init__(self, sale, size, gender):\n",
    "        super().__init__(sale)\n",
    "        self.size = size\n",
    "        self.gender = gender\n",
    "    def dress(self):\n",
    "        print(f\"This dress is for: {self.gender} and of size: {self.size}\")\n",
    "        super().display_sale()\n",
    "\n",
    "\n",
    "class Books(Product):\n",
    "    def __init__(self, sale, type, pages):\n",
    "        super().__init__(sale)\n",
    "        self.type = type\n",
    "        self.pages = pages\n",
    "    def book(self):\n",
    "        print(f\"This book falls in the category of: {self.type} and it has {self.pages} pages\")\n",
    "        super().display_sale()\n",
    "        \n",
    "\n",
    "obj_elec = Electronics(20, \"Laptop\", \"yes\")\n",
    "obj_elec.display_product()\n",
    "\n",
    "obj_clothing = Clothing(10, \"Meduim\", \"Female\")\n",
    "obj_clothing.dress()\n",
    "\n",
    "obj_kitab = Books(15, \"Fiction\", 500)\n",
    "obj_kitab.book()"
   ]
  }
 ],
 "metadata": {
  "kernelspec": {
   "display_name": "Python 3 (ipykernel)",
   "language": "python",
   "name": "python3"
  },
  "language_info": {
   "codemirror_mode": {
    "name": "ipython",
    "version": 3
   },
   "file_extension": ".py",
   "mimetype": "text/x-python",
   "name": "python",
   "nbconvert_exporter": "python",
   "pygments_lexer": "ipython3",
   "version": "3.11.7"
  }
 },
 "nbformat": 4,
 "nbformat_minor": 5
}
