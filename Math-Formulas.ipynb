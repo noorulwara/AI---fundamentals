{
 "cells": [
  {
   "cell_type": "code",
   "execution_count": 14,
   "id": "fdb046d8-57ae-41f3-a403-4867445e2a58",
   "metadata": {},
   "outputs": [
    {
     "name": "stdin",
     "output_type": "stream",
     "text": [
      "enter mass:  20\n",
      "enter speed:  30\n"
     ]
    },
    {
     "name": "stdout",
     "output_type": "stream",
     "text": [
      "600.0\n"
     ]
    }
   ],
   "source": [
    "# Mathematical Formulas using Python\n",
    "m= float(input(\"enter mass: \"))\n",
    "a= float(input(\"enter speed: \"))\n",
    "\n",
    "f = m*a\n",
    "print(f)\n",
    "               "
   ]
  },
  {
   "cell_type": "code",
   "execution_count": 3,
   "id": "e617db31-6acc-4841-ad43-aa865facffd2",
   "metadata": {},
   "outputs": [
    {
     "name": "stdin",
     "output_type": "stream",
     "text": [
      "Enter distance:  20\n",
      "enter time:  15\n"
     ]
    },
    {
     "name": "stdout",
     "output_type": "stream",
     "text": [
      "1.3333333333333333\n"
     ]
    }
   ],
   "source": [
    "d = float(input(\"Enter distance: \"))\n",
    "t = int(input(\"enter time: \"))\n",
    "v=d/t\n",
    "print(v)\n"
   ]
  },
  {
   "cell_type": "code",
   "execution_count": 4,
   "id": "27c68d49-8bf2-4a8c-b3dd-e2f7923940c7",
   "metadata": {},
   "outputs": [
    {
     "name": "stdin",
     "output_type": "stream",
     "text": [
      "enter length:  2\n",
      "enter width:  2\n"
     ]
    },
    {
     "name": "stdout",
     "output_type": "stream",
     "text": [
      "4\n"
     ]
    }
   ],
   "source": [
    "l=float(input(\"enter length: \"))\n",
    "w= float(input(\"enter width: \"))\n",
    "A = l*w\n",
    "print(A)"
   ]
  },
  {
   "cell_type": "code",
   "execution_count": 12,
   "id": "83896153-c4f4-4e2b-b279-343d43af5b88",
   "metadata": {},
   "outputs": [
    {
     "name": "stdin",
     "output_type": "stream",
     "text": [
      "enter initial velocity:  20\n",
      "enter time taken:  9\n",
      "enter acceleration:  20\n"
     ]
    },
    {
     "name": "stdout",
     "output_type": "stream",
     "text": [
      "990.0\n"
     ]
    }
   ],
   "source": [
    "Vi = float(input(\"enter initial velocity: \"))\n",
    "t = float(input(\"enter time taken: \"))\n",
    "a= float(input(\"enter acceleration: \"))\n",
    "S =(Vi*t)+1/2*(a*(t**2))\n",
    "print(S)"
   ]
  },
  {
   "cell_type": "code",
   "execution_count": 7,
   "id": "1562d74e-4cdd-467b-87cd-3b43de186537",
   "metadata": {},
   "outputs": [
    {
     "name": "stdin",
     "output_type": "stream",
     "text": [
      "enter mass:  20\n",
      "enter velocity:  5\n"
     ]
    },
    {
     "name": "stdout",
     "output_type": "stream",
     "text": [
      "250.0\n"
     ]
    }
   ],
   "source": [
    "m= int(input(\"enter mass: \"))\n",
    "v= float(input(\"enter velocity: \"))\n",
    "KE = 1/2*m*v**2\n",
    "print(KE)"
   ]
  },
  {
   "cell_type": "code",
   "execution_count": 9,
   "id": "c78e2808-53a8-4010-85aa-0a96064dee05",
   "metadata": {},
   "outputs": [
    {
     "name": "stdin",
     "output_type": "stream",
     "text": [
      "enter x1:  2\n",
      "enter x2:  1\n",
      "enter y1:  4\n",
      "enter y2:  3\n"
     ]
    },
    {
     "name": "stdout",
     "output_type": "stream",
     "text": [
      "-2.0\n"
     ]
    }
   ],
   "source": [
    "X1 = float(input(\"enter x1: \"))\n",
    "X2 = float(input(\"enter x2: \"))\n",
    "Y1 = float(input(\"enter y1: \"))\n",
    "Y2 = float(input(\"enter y2: \"))\n",
    "\n",
    "distance = (X2-X1)+(Y2-Y1)\n",
    "print(distance)"
   ]
  },
  {
   "cell_type": "code",
   "execution_count": 13,
   "id": "7973df49-fb36-4b91-b5ff-ebdc2236217e",
   "metadata": {},
   "outputs": [
    {
     "name": "stdin",
     "output_type": "stream",
     "text": [
      "enter initial velocity 5\n",
      "enter accelaration 2\n",
      "enter time taken 5\n"
     ]
    },
    {
     "name": "stdout",
     "output_type": "stream",
     "text": [
      "27.5\n"
     ]
    }
   ],
   "source": [
    "Vi = float(input(\"enter initial velocity\"))\n",
    "a = float(input(\"enter accelaration\"))\n",
    "t = float(input(\"enter time taken\"))\n",
    "Vf = (Vi + a*(t**2))/2\n",
    "print(Vf)"
   ]
  },
  {
   "cell_type": "code",
   "execution_count": 1,
   "id": "4509b40c-5e7e-42d0-8591-77cb06d1efa6",
   "metadata": {},
   "outputs": [
    {
     "name": "stdin",
     "output_type": "stream",
     "text": [
      "Enter a number:  2\n",
      "Enter operation to be performed:  +\n",
      "Enter another number:  4\n"
     ]
    },
    {
     "name": "stdout",
     "output_type": "stream",
     "text": [
      "Addition of numbers is:  6\n"
     ]
    }
   ],
   "source": [
    "# make a calculator\n",
    "a= int(input(\"Enter a number: \"))\n",
    "operator = input(\"Enter operation to be performed: \")\n",
    "b= int(input(\"Enter another number: \"))\n",
    "\n",
    "\n",
    "add = a+b\n",
    "sub = a-b\n",
    "mul = a*b\n",
    "div = a/b\n",
    "\n",
    "if(operator == '+'):\n",
    "    print(\"Addition of numbers is: \", add)\n",
    "elif(operator == '-'):\n",
    "    print(\"Subtraction of the numbers is: \", sub)\n",
    "elif(operator == '/'):\n",
    "    print(\"Division of the numbers is: \", div)\n",
    "elif(operator == '*'):\n",
    "    print(\"Multiplication of the numbers is: \", mul)\n",
    "else:\n",
    "    print(\"Invalid operator\")\n",
    "    "
   ]
  }
 ],
 "metadata": {
  "kernelspec": {
   "display_name": "Python 3 (ipykernel)",
   "language": "python",
   "name": "python3"
  },
  "language_info": {
   "codemirror_mode": {
    "name": "ipython",
    "version": 3
   },
   "file_extension": ".py",
   "mimetype": "text/x-python",
   "name": "python",
   "nbconvert_exporter": "python",
   "pygments_lexer": "ipython3",
   "version": "3.11.7"
  }
 },
 "nbformat": 4,
 "nbformat_minor": 5
}
