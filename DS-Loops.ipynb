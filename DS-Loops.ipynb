{
 "cells": [
  {
   "cell_type": "code",
   "execution_count": null,
   "id": "5be3679c-667f-4991-89d3-10fbb673ea6a",
   "metadata": {},
   "outputs": [],
   "source": [
    "num = int(input(\"How many values you want to enter? \" ))\n",
    "sum = 0\n",
    "smallest = None\n",
    "for i in range(num):\n",
    "    user_input = int(input(f\"Enter the number: \"))\n",
    "    sum = sum + user_input\n",
    "    if(smallest is None or user_input < smallest):\n",
    "        smallest = user_input\n",
    "    \n",
    "print(\"The total sum is:\", sum)\n",
    "print(f\"The smallest value from entered numbers is: {smallest}\")\n",
    "\n",
    "\n",
    "    \n",
    "\n",
    "    "
   ]
  },
  {
   "cell_type": "code",
   "execution_count": null,
   "id": "0040bb44-102b-4a22-b437-e7ab1d072cef",
   "metadata": {},
   "outputs": [],
   "source": [
    "def factorial(num):\n",
    "    fact  = 1\n",
    "    for i in range(2, num+1):\n",
    "        fact = fact*i\n",
    "    return fact\n",
    "\n",
    "factorial(5)\n"
   ]
  },
  {
   "cell_type": "code",
   "execution_count": null,
   "id": "a1011e09-290a-4720-943e-96bca5a6b850",
   "metadata": {},
   "outputs": [],
   "source": [
    "def factorial():\n",
    "    fact = 1\n",
    "    print(\"X  Factorial of X\")\n",
    "    for x in range(1, 6):\n",
    "        fact = fact*x\n",
    "        print(f\"{x}: {fact}\")\n",
    "\n",
    "factorial()"
   ]
  },
  {
   "cell_type": "code",
   "execution_count": null,
   "id": "d4b29c48-f591-45d3-a065-71145b95418a",
   "metadata": {},
   "outputs": [],
   "source": [
    "#Task 3 Number guessing game\n",
    "secret_number = 6\n",
    "print(\"I have choosen a number between 1 and 10. Try to guess it.\")\n",
    "guess = int(input(\"Your Guess: \"))\n",
    "while(guess != secret_number):\n",
    "    if(guess < secret_number):\n",
    "        print(\"Your Guess is too low! try again\")\n",
    "        guess = int(input(\"Your Guess: \"))\n",
    "    elif(guess > secret_number):\n",
    "        print(\"Your Guess is too high! try again\")\n",
    "        guess = int(input(\"Your Guess: \"))\n",
    "print(\"You guessed the number right!!\")\n",
    "        \n",
    "    "
   ]
  },
  {
   "cell_type": "code",
   "execution_count": null,
   "id": "f34ab74d-1d00-4e49-861e-817c817c73c3",
   "metadata": {
    "jp-MarkdownHeadingCollapsed": true
   },
   "outputs": [],
   "source": [
    "# Function to calculate GCD using Euclid's algorithm\n",
    "def gcd(a, b):\n",
    "    while b != 0:\n",
    "        a, b = b, a % b  # Keep swapping a with b and b with the remainder\n",
    "    return a\n",
    "\n",
    "# Get user input for two numbers\n",
    "num1 = int(input(\"Enter the first number: \"))\n",
    "num2 = int(input(\"Enter the second number: \"))\n",
    "\n",
    "# Calculate and print the GCD\n",
    "print(f\"The GCD of {num1} and {num2} is {gcd(num1, num2)}\")\n",
    "um2)}\")\r\n"
   ]
  },
  {
   "cell_type": "code",
   "execution_count": null,
   "id": "66495c98-58f6-4da9-b0eb-3a3ebd8f8095",
   "metadata": {},
   "outputs": [],
   "source": [
    "#Task-5 chech whether a user entered number is Prime or not\n",
    "def prime(num):\n",
    "    if num <= 1:\n",
    "        print(f\"{num} is not prime\")\n",
    "        return\n",
    "    for i in range(2, num):\n",
    "        if num%i == 0: \n",
    "            print(f\"{num} is not prime\")\n",
    "            return\n",
    "\n",
    "    print(f\"{num} is prime\")\n",
    "\n",
    "val = int(input(\"Enter a number\"))\n",
    "prime(val)"
   ]
  },
  {
   "cell_type": "code",
   "execution_count": null,
   "id": "d3493b48-d125-4d53-8197-cbde77a36ab7",
   "metadata": {},
   "outputs": [],
   "source": [
    "print(\"Prime numbers from 1-10000 are: \")\n",
    "def primes(num):\n",
    "    count = 0\n",
    "    for i in range(2,num+1):\n",
    "        is_prime = True\n",
    "        for j in range(2,i):\n",
    "            if i%j == 0:\n",
    "                is_prime = False\n",
    "                break\n",
    "        if is_prime:\n",
    "            print(i, end='\\t')\n",
    "            count += 1\n",
    "            if count % 9 == 0: \n",
    "                print()\n",
    "           \n",
    "\n",
    "primes(1000)"
   ]
  },
  {
   "cell_type": "code",
   "execution_count": null,
   "id": "4bdda7c2-d366-4e74-a8c2-1a819f9467a9",
   "metadata": {},
   "outputs": [],
   "source": [
    "# Task 6: Write a code that prints on screen all the 4-digit Armstrong numbers.\n",
    "\n"
   ]
  },
  {
   "cell_type": "code",
   "execution_count": null,
   "id": "efe322e1-c9c9-4f16-a05a-1383bc9a06d4",
   "metadata": {},
   "outputs": [],
   "source": [
    "# Task 7: Write a program that outputs 100 lines, numbered 1 to 100, each with your name on it\n",
    "for i in range(1,101):\n",
    "    print(f\"{i} : Kainat\")\n",
    "\n"
   ]
  },
  {
   "cell_type": "code",
   "execution_count": null,
   "id": "3f8058b3-7667-4d40-9cd3-befac3a68bdc",
   "metadata": {},
   "outputs": [],
   "source": [
    "# Task 8: Write a program that prints out a list of the integers from 1 to 20 and their squares.\n",
    "print(\"square of integer is: \")\n",
    "for i in range(1, 21):\n",
    "    print(f\"{i} --- {i**2}\")"
   ]
  },
  {
   "cell_type": "code",
   "execution_count": null,
   "id": "e50f6660-2115-44f3-8ddf-e263182ce192",
   "metadata": {},
   "outputs": [],
   "source": [
    "# Task 9: Write a program that uses a for loop to print the numbers 8, 11, 14, 17, 20, . . . , 83, 86, 89.\n",
    "for i in range(8, 90, 3):\n",
    "    print(i, end = \", \")\n"
   ]
  },
  {
   "cell_type": "code",
   "execution_count": null,
   "id": "366767df-503a-4f0d-9d42-43a3713e2c5a",
   "metadata": {},
   "outputs": [],
   "source": [
    "# Task 10: Write a program that asks the user for their name and how many times to print it. \n",
    "name = input(\"Enter your name: \")\n",
    "frequency = int(input(\"How many time you want to print it? \"))\n",
    "\n",
    "for i in range(frequency):\n",
    "    print(name)\n",
    "    "
   ]
  },
  {
   "cell_type": "code",
   "execution_count": null,
   "id": "76dba374-d8d7-4acd-8aba-d8dcb5fc06a1",
   "metadata": {},
   "outputs": [],
   "source": [
    "# Task 11: Use a for loop to print a box like the one below. Allow the user to specify how wide and\n",
    "# how high the box should be.\n",
    "\n",
    "# *******************\n",
    "# *******************\n",
    "# *******************\n",
    "# *******************\n",
    "\n",
    "# solution\n",
    "height = int(input(\"Enter the height of the box: \"))\n",
    "width = int(input(\"Enter the width of the box: \"))\n",
    "\n",
    "for i in range(height):\n",
    "    print(\"*\"*width)\n"
   ]
  },
  {
   "cell_type": "code",
   "execution_count": null,
   "id": "7243463f-27f7-464c-bdc8-3d35ab791e8b",
   "metadata": {},
   "outputs": [],
   "source": [
    "# Task 12: Use a for loop to print a triangle like the one below. Allow the user to specify how high the\n",
    "# triangle should be.\n",
    "# *\n",
    "# **\n",
    "# ***\n",
    "# ****\n",
    "\n",
    "# solution\n",
    "height = int(input(\"Enter the height of the box: \"))\n",
    "\n",
    "for i in range(1,height+1):\n",
    "    print(\"*\"*i)"
   ]
  }
 ],
 "metadata": {
  "kernelspec": {
   "display_name": "Python 3 (ipykernel)",
   "language": "python",
   "name": "python3"
  },
  "language_info": {
   "codemirror_mode": {
    "name": "ipython",
    "version": 3
   },
   "file_extension": ".py",
   "mimetype": "text/x-python",
   "name": "python",
   "nbconvert_exporter": "python",
   "pygments_lexer": "ipython3",
   "version": "3.11.7"
  }
 },
 "nbformat": 4,
 "nbformat_minor": 5
}
