{
 "cells": [
  {
   "cell_type": "markdown",
   "id": "9acb5f30-fbf0-4163-ae80-f9c976216717",
   "metadata": {},
   "source": [
    "CLASSES\n",
    "class: sketch, structure, blueprint, template: e.g: canvas. most efficient of all. \n",
    "constructor: inside of a class, def init(self) ->used for initialization of attributes(data).\n",
    "self-> a variable to track input values and decide which value to be assigned to which attributes self.name=can be use anywhere in the code"
   ]
  },
  {
   "cell_type": "code",
   "execution_count": 1,
   "id": "315eb884-5058-43fb-89f5-327f4d08e170",
   "metadata": {},
   "outputs": [
    {
     "name": "stdout",
     "output_type": "stream",
     "text": [
      "Account created Successfully\n"
     ]
    }
   ],
   "source": [
    "# write a pyhton class t craete a class representing a bank. include methods for managing customer accounts and transactions\n",
    "class Bank:\n",
    "    def __init__(self):\n",
    "        self.customers = {}\n",
    "    def create_account(self, account_number, initial_balance = 0):\n",
    "        if account_number in self.customers:\n",
    "            print(\"Account number already exists!\")\n",
    "        else:\n",
    "            self.customers[account_number] = initial_balance\n",
    "            print(\"Account created Successfully\")\n",
    "\n",
    "    def make_deposit(self, account_number, amount):\n",
    "        if account_number in self.customers:\n",
    "            self.customers[account_number] += amount\n",
    "            print(\"Deposit successful\")\n",
    "        else:\n",
    "            print(\"Account number does not exist\")\n",
    "    def make_withdrawl(self, account_number, amount):\n",
    "        if account_number in self.customers:\n",
    "            if self.customers[account_number] >= amount:\n",
    "                self.customers[account_number] -= amount\n",
    "                print(\"Withdrawl successful\")\n",
    "            else:\n",
    "                print(\"Insufficient funds\")\n",
    "        else:\n",
    "            print(\"Account does not exist\")\n",
    "\n",
    "\n",
    "bankObj = Bank()\n",
    "bankObj.create_account(\"ABC 123\", 1000)"
   ]
  },
  {
   "cell_type": "code",
   "execution_count": 2,
   "id": "6eb5759d-3542-4c7f-b652-d515f032ffd8",
   "metadata": {},
   "outputs": [
    {
     "name": "stdout",
     "output_type": "stream",
     "text": [
      "Name:  Kainat\n",
      "Country:  Pakistan\n",
      "Date of birth:  2000-10-18\n"
     ]
    }
   ],
   "source": [
    "#write a Python class to create a person class. include attributes like name, country, \n",
    "# and date of birth. implement a method to determine the person's age\n",
    "from datetime import date\n",
    "\n",
    "class person:\n",
    "    def __init__(self, name, country,dob):\n",
    "        self.name = name\n",
    "        self.country = country\n",
    "        self.dob = dob     \n",
    "\n",
    "object = person(\"Kainat\", \"Pakistan\", date(2000, 10, 18))\n",
    "print(\"Name: \", object.name)\n",
    "print(\"Country: \",object.country)\n",
    "print(\"Date of birth: \",object.dob)"
   ]
  },
  {
   "cell_type": "code",
   "execution_count": 3,
   "id": "919d97bb-ac34-4e3c-b56e-12bba0c44a35",
   "metadata": {},
   "outputs": [
    {
     "name": "stdout",
     "output_type": "stream",
     "text": [
      "Cookie\n",
      "Huskey\n",
      "3\n"
     ]
    }
   ],
   "source": [
    "class dog:\n",
    "    def __init__(self, name, breed, age): \n",
    "        self.name = name                #they are public; if not mentioned private or protected!\n",
    "        self.breed = breed\n",
    "        self.age = age\n",
    "        \n",
    "    def display_name(self):\n",
    "        print(self.name)\n",
    "    def display_breed(self):\n",
    "        print(self.breed)\n",
    "    def display_age(self):\n",
    "        print(self.age)\n",
    "\n",
    "obj= dog(\"Cookie\", \"Huskey\", 3)     \n",
    "obj.display_name()\n",
    "obj.display_breed()\n",
    "obj.display_age()"
   ]
  },
  {
   "cell_type": "code",
   "execution_count": 4,
   "id": "45382521-ff80-4d9f-84ad-944ce0119e2e",
   "metadata": {},
   "outputs": [
    {
     "name": "stdin",
     "output_type": "stream",
     "text": [
      "Enter name of phone: dbjdhcsjd\n",
      "Enter model of phone: jhdscjha\n",
      "Enter color of phone: jsndcjks\n",
      "Enter brand of phone: jsdhcj\n",
      "Enter Operating of phone: kjsdhi\n",
      "Enter price of phone: 56688\n"
     ]
    },
    {
     "name": "stdout",
     "output_type": "stream",
     "text": [
      "The name of phone is:  dbjdhcsjd\n",
      "Model of phone is:  jhdscjha\n",
      "Color of phone:  jsndcjks\n",
      "Phone's brand:  jsdhcj\n",
      "Operating system of phone:  kjsdhi\n",
      "Price of phone is:  56688\n"
     ]
    }
   ],
   "source": [
    "class Phone:\n",
    "    def __init__(self, name, model, color, brand, OS, price):\n",
    "        self.name = name\n",
    "        self.model = model\n",
    "        self.color = color\n",
    "        self.brand = brand\n",
    "        self.OS = OS\n",
    "        self.price = price\n",
    "\n",
    "    def show_name(self):\n",
    "        print(\"The name of phone is: \", name )\n",
    "    def show_model(self):\n",
    "        print(\"Model of phone is: \", model)\n",
    "    def show_color(self):\n",
    "        print(\"Color of phone: \", color)\n",
    "    def show_brand(self):\n",
    "        print(\"Phone's brand: \", brand)\n",
    "    def show_os(self):\n",
    "        print(\"Operating system of phone: \", OS)\n",
    "    def show_price(self):\n",
    "        print(\"Price of phone is: \", price)\n",
    "\n",
    "name = input(\"Enter name of phone:\" )\n",
    "model = input(\"Enter model of phone:\" )\n",
    "color = input(\"Enter color of phone:\" )\n",
    "brand = input(\"Enter brand of phone:\" )\n",
    "OS = input(\"Enter Operating of phone:\" )\n",
    "price = int(input(\"Enter price of phone:\" ))\n",
    "\n",
    "objPhone = Phone(name, model, color, brand, OS, price)\n",
    "\n",
    "objPhone.show_name()\n",
    "objPhone.show_model()\n",
    "objPhone.show_color()\n",
    "objPhone.show_brand()\n",
    "objPhone.show_os()\n",
    "objPhone.show_price()\n",
    "\n",
    "\n"
   ]
  },
  {
   "cell_type": "code",
   "execution_count": null,
   "id": "fe1441e3-908c-4d70-b0d8-41dfc8c5c0d0",
   "metadata": {},
   "outputs": [],
   "source": [
    "class laptop:\n",
    "    def __init__(self, brand, OS, unitPrice, color, quantity, discount):\n",
    "        self.brand = brand\n",
    "        self.OS = OS\n",
    "        self.unitPrice = unitPrice\n",
    "        self.color = color\n",
    "    def display_brand(self):\n",
    "        print(\"Laptop's Brand: \", brand)\n",
    "    def display_os(self):\n",
    "        print(\"Operating system of laptop is: \", OS)\n",
    "    def display_price(self):\n",
    "        print(\"Price of laptop: \", price)\n",
    "    def display_color(self):\n",
    "        print(\"Color of laptop: \", color)\n",
    "    def display_quantity(self):\n",
    "        print(\"Number of laptops: \", quantity)\n",
    "    def display_discount(self):\n",
    "        print(\"Discount per unit\", discount)\n",
    "    def display_total_discount(self):\n",
    "        print(\"Total discount: \", (quantity*discount))\n",
    "        \n",
    "\n",
    "brand = input(\"Enter a brand name for laptop\")\n",
    "OS = input(\"Enter operating system of laptop\")\n",
    "price = int(input(\"Enter unit price per laptop: \"))\n",
    "color = input(\"Enter a color for laptop: \")\n",
    "quantity = int(input(\"Enter number of laptops: \"))\n",
    "discount = int(input(\"Enter discount per unit: \"))\n",
    "\n",
    "\n",
    "obj = laptop(brand, OS, price, color, quantity, discount)\n",
    "\n",
    "obj.display_brand()\n",
    "obj.display_os()\n",
    "obj.display_price()\n",
    "obj.display_color()\n",
    "obj.display_total_discount()"
   ]
  }
 ],
 "metadata": {
  "kernelspec": {
   "display_name": "Python 3 (ipykernel)",
   "language": "python",
   "name": "python3"
  },
  "language_info": {
   "codemirror_mode": {
    "name": "ipython",
    "version": 3
   },
   "file_extension": ".py",
   "mimetype": "text/x-python",
   "name": "python",
   "nbconvert_exporter": "python",
   "pygments_lexer": "ipython3",
   "version": "3.11.7"
  }
 },
 "nbformat": 4,
 "nbformat_minor": 5
}
