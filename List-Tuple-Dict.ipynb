{
 "cells": [
  {
   "cell_type": "code",
   "execution_count": 1,
   "id": "973897b0-af55-4ca0-aeb5-5855f4af5a14",
   "metadata": {},
   "outputs": [
    {
     "name": "stdout",
     "output_type": "stream",
     "text": [
      "['character', 'wifi', 12, 'kiwi', 12.0, 'Age']\n",
      "['character', 'wifi', 12, 'kiwi', 12.0, 'Age']\n"
     ]
    }
   ],
   "source": [
    "A = [\"character\", \"wifi\", 12, \"kiwi\", 12.0]\n",
    "B=A\n",
    "B.append(\"Age\")\n",
    "print(A)\n",
    "print(B)"
   ]
  },
  {
   "cell_type": "code",
   "execution_count": 2,
   "id": "a50ad100-5cd5-4175-b348-b9f8d6036f59",
   "metadata": {},
   "outputs": [
    {
     "name": "stdout",
     "output_type": "stream",
     "text": [
      "['character', 12, 'kiwi', 12.0, 'Age']\n",
      "['character', 12, 'kiwi', 12.0, 'Age']\n"
     ]
    }
   ],
   "source": [
    "B.remove(\"wifi\")\n",
    "print(A)\n",
    "print(B)"
   ]
  },
  {
   "cell_type": "code",
   "execution_count": 3,
   "id": "b62381b6-187a-4010-8907-8af5c86ab5f3",
   "metadata": {},
   "outputs": [
    {
     "name": "stdout",
     "output_type": "stream",
     "text": [
      "['character', 12, 'kiwi', 12.0, 'Age']\n"
     ]
    }
   ],
   "source": [
    "B=A.copy()\n",
    "print(B)"
   ]
  },
  {
   "cell_type": "code",
   "execution_count": 4,
   "id": "cc79ecd2-6bc5-4409-8ea7-1bc79fe585f8",
   "metadata": {},
   "outputs": [
    {
     "name": "stdout",
     "output_type": "stream",
     "text": [
      "('character', 'wifi', 12, 'kiwi', 12.0)\n"
     ]
    }
   ],
   "source": [
    "#tuples can be extended but you cannot insert any inside it neither can you change the index of the tuple)\n",
    "Tp = (\"character\", \"wifi\", 12, \"kiwi\", 12.0)\n",
    "print(Tp)"
   ]
  },
  {
   "cell_type": "code",
   "execution_count": 5,
   "id": "97e7519f-d0da-47e2-8b09-cad13f093e3b",
   "metadata": {},
   "outputs": [
    {
     "name": "stdout",
     "output_type": "stream",
     "text": [
      "('character', 'wifi', 12, 'kiwi', 12.0, 1)\n"
     ]
    }
   ],
   "source": [
    "Tp = (\"character\", \"wifi\", 12, \"kiwi\", 12.0)\n",
    "a=(1,)\n",
    "Tp = Tp+a\n",
    "print(Tp)"
   ]
  },
  {
   "cell_type": "code",
   "execution_count": 6,
   "id": "51a371a1-41d9-4f71-99d6-31ae8cd44aae",
   "metadata": {},
   "outputs": [
    {
     "data": {
      "text/plain": [
       "6"
      ]
     },
     "execution_count": 6,
     "metadata": {},
     "output_type": "execute_result"
    }
   ],
   "source": [
    "len(Tp)"
   ]
  },
  {
   "cell_type": "code",
   "execution_count": 8,
   "id": "91532a52-cb3d-41a8-9481-444a8faa50fb",
   "metadata": {},
   "outputs": [
    {
     "name": "stdout",
     "output_type": "stream",
     "text": [
      "('character', 'wifi', 12, 'kiwi', 12.0, 'Hello', 'any', 23, 'character', 'wifi', 12, 'kiwi', 12.0, 'Hello', 'any', 23)\n"
     ]
    }
   ],
   "source": [
    "#tuples can be added, subtracted, divided multiplied with a single integer\n",
    "Tp1 = (\"character\", \"wifi\", 12, \"kiwi\", 12.0)\n",
    "Tp2 = (\"Hello\", \"any\", 23)\n",
    "res = (Tp1+Tp2)*2\n",
    "print(res)\n"
   ]
  },
  {
   "cell_type": "code",
   "execution_count": 1,
   "id": "0f4851bb-85d0-4c0b-b9df-866a57d1296f",
   "metadata": {},
   "outputs": [
    {
     "name": "stdin",
     "output_type": "stream",
     "text": [
      "Enter a string apple\n",
      "Enter a string orange\n",
      "Enter a string banana\n"
     ]
    },
    {
     "name": "stdout",
     "output_type": "stream",
     "text": [
      "('apple', 'orange', 'banana')\n",
      "<class 'tuple'>\n"
     ]
    }
   ],
   "source": [
    "A= []\n",
    "A.append(input(\"Enter a string\"))\n",
    "A.append(input(\"Enter a string\"))\n",
    "A.append(input(\"Enter a string\"))\n",
    "\n",
    "res = tuple(A)\n",
    "print(res)\n",
    "print(type(res))\n",
    "\n",
    "\n",
    "\n"
   ]
  },
  {
   "cell_type": "code",
   "execution_count": 4,
   "id": "6c2f5032-b3a0-44e6-8e56-bbb97bbf81e0",
   "metadata": {},
   "outputs": [
    {
     "name": "stdin",
     "output_type": "stream",
     "text": [
      "Enter an integer 22\n",
      "Enter an integer 23\n",
      "Enter an integer 24\n",
      "Enter an integer 24\n",
      "Enter an integer 25\n"
     ]
    },
    {
     "name": "stdout",
     "output_type": "stream",
     "text": [
      "(22, 23, 24, 24, 25)\n"
     ]
    },
    {
     "name": "stdin",
     "output_type": "stream",
     "text": [
      "enter a value 25\n"
     ]
    },
    {
     "name": "stdout",
     "output_type": "stream",
     "text": [
      "4\n"
     ]
    },
    {
     "name": "stdin",
     "output_type": "stream",
     "text": [
      "enter a value to find frequency 24\n"
     ]
    },
    {
     "name": "stdout",
     "output_type": "stream",
     "text": [
      "2\n"
     ]
    }
   ],
   "source": [
    "B=[]\n",
    "B.append(int(input(\"Enter an integer\")))\n",
    "B.append(int(input(\"Enter an integer\")))\n",
    "B.append(int(input(\"Enter an integer\")))\n",
    "B.append(int(input(\"Enter an integer\")))\n",
    "B.append(int(input(\"Enter an integer\")))\n",
    "\n",
    "res = tuple(B)\n",
    "print(res)\n",
    "\n",
    "position = int(input(\"enter a value\"))\n",
    "print(res.index(position))\n",
    "\n",
    "counter = int(input(\"enter a value to find frequency\"))\n",
    "print(res.count(counter))\n",
    "\n",
    "\n"
   ]
  },
  {
   "cell_type": "code",
   "execution_count": 5,
   "id": "d61a5669-ff54-4f6f-b9d8-7ad40352317f",
   "metadata": {},
   "outputs": [
    {
     "name": "stdout",
     "output_type": "stream",
     "text": [
      "{'color1': 'Orange', 'color2': 'green', 'colo3r': 'blue'}\n"
     ]
    }
   ],
   "source": [
    "my_dict = {\"color1\": \"Orange\", \"color2\": \"green\", \"colo3r\": \"blue\"} \n",
    "print(my_dict)"
   ]
  },
  {
   "cell_type": "code",
   "execution_count": 8,
   "id": "19971a4e-773f-4b68-b258-56534ae7aea0",
   "metadata": {},
   "outputs": [
    {
     "name": "stdout",
     "output_type": "stream",
     "text": [
      "{'color1': 'Orange', 'color2': 'green', 'colo3r': 'blue', 'Color4': 'black'}\n"
     ]
    }
   ],
   "source": [
    "my_dict[\"Color4\"] = \"black\"\n",
    "print(my_dict)l"
   ]
  },
  {
   "cell_type": "code",
   "execution_count": 9,
   "id": "00293ccf-72ba-456c-a754-a8f77a979a39",
   "metadata": {},
   "outputs": [
    {
     "name": "stdout",
     "output_type": "stream",
     "text": [
      "{'color1': 'Orange', 'color2': 'green', 'colo3r': 'blue', 'Color4': 'black', 'color5': 'brown'}\n"
     ]
    }
   ],
   "source": [
    "my_dict.update({\"color5\": \"brown\"})\n",
    "print(my_dict)"
   ]
  },
  {
   "cell_type": "code",
   "execution_count": 10,
   "id": "bf7fe4f1-445c-49f1-86cf-e69c89435e08",
   "metadata": {},
   "outputs": [
    {
     "name": "stdout",
     "output_type": "stream",
     "text": [
      "{'color1': 'Orange', 'color2': 'green', 'colo3r': 'blue', 'Color4': 'pink', 'color5': 'brown'}\n"
     ]
    }
   ],
   "source": [
    "my_dict[\"Color4\"] = \"pink\"\n",
    "print(my_dict)"
   ]
  },
  {
   "cell_type": "code",
   "execution_count": 13,
   "id": "bcb730af-ee33-47e9-9f41-2f4f83d5f3c1",
   "metadata": {},
   "outputs": [
    {
     "data": {
      "text/plain": [
       "dict_values(['Orange', 'green', 'blue', 'pink', 'brown'])"
      ]
     },
     "execution_count": 13,
     "metadata": {},
     "output_type": "execute_result"
    }
   ],
   "source": [
    "my_dict.items()\n",
    "my_dict.keys()\n",
    "my_dict.values()"
   ]
  },
  {
   "cell_type": "code",
   "execution_count": 14,
   "id": "5ac05891-2458-43ec-a8bb-f62fdc7729dd",
   "metadata": {},
   "outputs": [
    {
     "name": "stdin",
     "output_type": "stream",
     "text": [
      "Enter a key:  subject\n",
      "Enter a value:  datascience\n"
     ]
    },
    {
     "name": "stdout",
     "output_type": "stream",
     "text": [
      "{'Name': 'Kainat', 'Age': '23', 'Roll_no': '17', 'grade': 'A', 'fav_color': 'Green', 'fav_fruit': 'Orange', 'University': 'Comsats', 'Address': 'Gilgit', 'Section': '4', 'subject': 'datascience'}\n"
     ]
    }
   ],
   "source": [
    "my_record = {\"Name\": \"Kainat\",\n",
    "             \"Age\": \"23\",\n",
    "             \"Roll_no\": \"17\",\n",
    "             \"grade\": \"A\",\n",
    "             \"fav_color\": \"Green\",\n",
    "             \"fav_fruit\": \"Orange\",\n",
    "             \"University\": \"Comsats\",\n",
    "             \"Address\": \"Gilgit\",\n",
    "             \"Section\": \"4\"\n",
    "            }\n",
    "key = input(\"Enter a key: \")\n",
    "value = input(\"Enter a value: \")\n",
    "\n",
    "my_record.update({key:value})\n",
    "print(my_record)\n"
   ]
  },
  {
   "cell_type": "code",
   "execution_count": 15,
   "id": "2a01700f-73ce-480f-9a8a-46e056387fc5",
   "metadata": {},
   "outputs": [
    {
     "name": "stdin",
     "output_type": "stream",
     "text": [
      "enter a key to delete subject\n"
     ]
    },
    {
     "name": "stdout",
     "output_type": "stream",
     "text": [
      "{'Name': 'Kainat', 'Age': '23', 'Roll_no': '17', 'grade': 'A', 'fav_color': 'Green', 'fav_fruit': 'Orange', 'University': 'Comsats', 'Address': 'Gilgit', 'Section': '4'}\n"
     ]
    }
   ],
   "source": [
    "del_key = input(\"enter a key to delete\")\n",
    "my_record.pop(del_key)\n",
    "print(my_record)"
   ]
  },
  {
   "cell_type": "code",
   "execution_count": 16,
   "id": "79e61031-30f3-40ae-9426-118a9afcb532",
   "metadata": {},
   "outputs": [
    {
     "name": "stdout",
     "output_type": "stream",
     "text": [
      "dict_keys(['Name', 'Age', 'Roll_no', 'grade', 'fav_color', 'fav_fruit', 'University', 'Address', 'Section'])\n"
     ]
    }
   ],
   "source": [
    "print(my_record.keys())"
   ]
  },
  {
   "cell_type": "code",
   "execution_count": 17,
   "id": "14936411-8874-4c4c-b8d9-ebb377b047c3",
   "metadata": {},
   "outputs": [
    {
     "name": "stdout",
     "output_type": "stream",
     "text": [
      "dict_values(['Kainat', '23', '17', 'A', 'Green', 'Orange', 'Comsats', 'Gilgit', '4'])\n"
     ]
    }
   ],
   "source": [
    "print(my_record.values())"
   ]
  },
  {
   "cell_type": "code",
   "execution_count": 6,
   "id": "35d10298-44af-4a75-a375-7e5a5f0a43e4",
   "metadata": {},
   "outputs": [
    {
     "name": "stdout",
     "output_type": "stream",
     "text": [
      "Key is present in the dictionary\n"
     ]
    }
   ],
   "source": [
    "my_record = {\"Name\": \"Kainat\",\n",
    "             \"Age\": \"23\",\n",
    "             \"Roll_no\": \"17\",\n",
    "             \"grade\": \"A\",\n",
    "             \"fav_color\": \"Green\",\n",
    "             \"fav_fruit\": \"Orange\",\n",
    "             \"University\": \"Comsats\",\n",
    "             \"Address\": \"Gilgit\",\n",
    "             \"Section\": \"4\"\n",
    "            }\n",
    "\n",
    "key = \"Name\"\n",
    "if(key in my_record):\n",
    "    print(\"Key is present in the dictionary\")\n",
    "else:\n",
    "    (\"Key not found\")"
   ]
  },
  {
   "cell_type": "code",
   "execution_count": 4,
   "id": "450af5ef-3f10-4ed1-8f20-c3a1ed7f30bb",
   "metadata": {},
   "outputs": [
    {
     "name": "stdout",
     "output_type": "stream",
     "text": [
      "1\n",
      "3\n"
     ]
    }
   ],
   "source": [
    "#LOOPS\n",
    "#range function\n",
    "for i in range(1,5,2):\n",
    "    print(i)\n"
   ]
  },
  {
   "cell_type": "code",
   "execution_count": 9,
   "id": "75b0b623-76c5-4199-9751-455f02fa5208",
   "metadata": {},
   "outputs": [
    {
     "name": "stdout",
     "output_type": "stream",
     "text": [
      "x\n",
      "y\n",
      "z\n"
     ]
    },
    {
     "data": {
      "text/plain": [
       "3"
      ]
     },
     "execution_count": 9,
     "metadata": {},
     "output_type": "execute_result"
    }
   ],
   "source": [
    "list = [\"x\", \"y\", \"z\"]\n",
    "for i in list:\n",
    "    print(i)\n",
    "len(list)\n"
   ]
  },
  {
   "cell_type": "code",
   "execution_count": 10,
   "id": "353d9c48-8fc1-4521-8d2a-c88cd95e9dc3",
   "metadata": {},
   "outputs": [
    {
     "name": "stdout",
     "output_type": "stream",
     "text": [
      "0\n",
      "1\n",
      "2\n",
      "3\n",
      "4\n",
      "5\n",
      "6\n"
     ]
    }
   ],
   "source": [
    "li = [1,2,3,4,5,6,7]\n",
    "for i in range(len(li)):\n",
    "    print(i)"
   ]
  },
  {
   "cell_type": "code",
   "execution_count": 19,
   "id": "39ef5989-9747-4c4a-af32-48dd63ecb29a",
   "metadata": {},
   "outputs": [
    {
     "name": "stdout",
     "output_type": "stream",
     "text": [
      "this\n",
      "is\n",
      "our\n",
      "sixth\n",
      "pyhton\n",
      "lab\n"
     ]
    }
   ],
   "source": [
    "str = \"This is our sixth python lab\"\n",
    "lisst = [\"this\", \"is\", \"our\", \"sixth\",\"pyhton\", \"lab\"]\n",
    "\n",
    "for i in lisst:\n",
    "    print(i)\n",
    "\n"
   ]
  },
  {
   "cell_type": "code",
   "execution_count": 41,
   "id": "cb485934-52eb-4ff9-a218-f4464dde3ad5",
   "metadata": {},
   "outputs": [
    {
     "name": "stdout",
     "output_type": "stream",
     "text": [
      "[2, 4, 6]\n"
     ]
    }
   ],
   "source": [
    "list1 = [1,2,3,4,5,6,7]\n",
    "even = []\n",
    "for i in list1:\n",
    "    if(i%2 == 0):\n",
    "        even.append(i)\n",
    "print(even)"
   ]
  },
  {
   "cell_type": "code",
   "execution_count": 1,
   "id": "d004e105-781b-48ad-8ab7-cca23e65892d",
   "metadata": {},
   "outputs": [
    {
     "name": "stdin",
     "output_type": "stream",
     "text": [
      "enter a character:  e\n"
     ]
    },
    {
     "name": "stdout",
     "output_type": "stream",
     "text": [
      "character is a vowel\n"
     ]
    }
   ],
   "source": [
    "vowels = [\"a\", \"e\", \"i\", \"o\", \"u\"]\n",
    "char = input(\"enter a character: \")\n",
    "for i in vowels:\n",
    "    if char == i:\n",
    "        print(\"character is a vowel\")\n",
    "        break;\n",
    "        "
   ]
  },
  {
   "cell_type": "code",
   "execution_count": 7,
   "id": "82acd947-85b0-405e-afc5-3cc37995a326",
   "metadata": {},
   "outputs": [
    {
     "name": "stdout",
     "output_type": "stream",
     "text": [
      "[0, 2, 4, 6, 8, 10, 12, 14, 16, 18, 20, 22, 24, 26, 28]\n"
     ]
    }
   ],
   "source": [
    "\n",
    "even_numbers = []\n",
    "n= 30\n",
    "i = 0\n",
    "while(i<n):\n",
    "    if(i%2 == 0):\n",
    "        even_numbers.append(i)\n",
    "    i+=1;\n",
    "print(even_numbers)\n",
    "\n",
    "        "
   ]
  },
  {
   "cell_type": "code",
   "execution_count": 1,
   "id": "19285474-67fc-4c09-9779-e2a80334d843",
   "metadata": {},
   "outputs": [
    {
     "name": "stdout",
     "output_type": "stream",
     "text": [
      "Hello world!\n",
      "Hello world!\n",
      "Hello world!\n",
      "Hello world!\n",
      "Hello world!\n"
     ]
    }
   ],
   "source": [
    "str = \"Hello world!\"\n",
    "for i in range(5):\n",
    "    print(str)"
   ]
  },
  {
   "cell_type": "code",
   "execution_count": 3,
   "id": "0894757b-bd00-4c9c-a38d-e03541b99388",
   "metadata": {},
   "outputs": [
    {
     "name": "stdin",
     "output_type": "stream",
     "text": [
      "Enter a number! 5\n"
     ]
    },
    {
     "name": "stdout",
     "output_type": "stream",
     "text": [
      "1\n",
      "2\n",
      "3\n",
      "4\n"
     ]
    }
   ],
   "source": [
    "num = int(input(\"Enter a number!\"))\n",
    "for i in range(1,num):\n",
    "    print(i)"
   ]
  },
  {
   "cell_type": "code",
   "execution_count": 4,
   "id": "47302f8c-ac1a-410c-9177-ad65358a3318",
   "metadata": {},
   "outputs": [
    {
     "name": "stdout",
     "output_type": "stream",
     "text": [
      "2\n",
      "4\n",
      "6\n",
      "8\n",
      "10\n",
      "12\n",
      "14\n",
      "16\n",
      "18\n",
      "20\n",
      "22\n",
      "24\n",
      "26\n",
      "28\n",
      "30\n",
      "32\n",
      "34\n",
      "36\n",
      "38\n",
      "40\n",
      "42\n",
      "44\n",
      "46\n",
      "48\n",
      "50\n",
      "52\n",
      "54\n",
      "56\n",
      "58\n",
      "60\n",
      "62\n",
      "64\n",
      "66\n",
      "68\n",
      "70\n",
      "72\n",
      "74\n",
      "76\n",
      "78\n",
      "80\n",
      "82\n",
      "84\n",
      "86\n",
      "88\n",
      "90\n",
      "92\n",
      "94\n",
      "96\n",
      "98\n"
     ]
    }
   ],
   "source": [
    "for i in range(1,100):\n",
    "    if(i%2 == 0):\n",
    "        print(i)"
   ]
  },
  {
   "cell_type": "code",
   "execution_count": 1,
   "id": "266d68f4-c738-43f1-919c-ea3658c2b983",
   "metadata": {},
   "outputs": [
    {
     "name": "stdout",
     "output_type": "stream",
     "text": [
      "Hello World!\n",
      "Hello World!\n",
      "Hello World!\n",
      "Hello World!\n",
      "Hello World!\n"
     ]
    }
   ],
   "source": [
    "#using while loop\n",
    "\n",
    "i=0\n",
    "n=5\n",
    "while(i<n):\n",
    "    print( \"Hello World!\")\n",
    "    i=i+1\n",
    "    \n",
    "\n",
    "\n",
    "    "
   ]
  },
  {
   "cell_type": "code",
   "execution_count": 3,
   "id": "8eac3a6f-6d0c-45b8-aaca-657341c1381a",
   "metadata": {},
   "outputs": [
    {
     "name": "stdin",
     "output_type": "stream",
     "text": [
      "Enter a number! 5\n"
     ]
    },
    {
     "name": "stdout",
     "output_type": "stream",
     "text": [
      "1\n",
      "2\n",
      "3\n",
      "4\n"
     ]
    }
   ],
   "source": [
    "num = int(input(\"Enter a number!\"))\n",
    "i=1\n",
    "while(i<num):\n",
    "    print(i)\n",
    "    i=i+1"
   ]
  },
  {
   "cell_type": "code",
   "execution_count": 6,
   "id": "744d7771-847b-46f7-b438-e6287c5d9023",
   "metadata": {},
   "outputs": [
    {
     "name": "stdin",
     "output_type": "stream",
     "text": [
      "Guess a number:  3\n"
     ]
    },
    {
     "name": "stdout",
     "output_type": "stream",
     "text": [
      "Guess is too low\n"
     ]
    },
    {
     "name": "stdin",
     "output_type": "stream",
     "text": [
      "Guess a number:  5\n"
     ]
    },
    {
     "name": "stdout",
     "output_type": "stream",
     "text": [
      "Guess is too low\n"
     ]
    },
    {
     "name": "stdin",
     "output_type": "stream",
     "text": [
      "Guess a number:  10\n"
     ]
    },
    {
     "name": "stdout",
     "output_type": "stream",
     "text": [
      "Guess is too high\n"
     ]
    },
    {
     "name": "stdin",
     "output_type": "stream",
     "text": [
      "Guess a number:  8\n"
     ]
    },
    {
     "name": "stdout",
     "output_type": "stream",
     "text": [
      "You entered the right number!\n"
     ]
    }
   ],
   "source": [
    "#sequential program\n",
    "secret_number = 8\n",
    "guess = int(input(\"Guess a number: \"))\n",
    "\n",
    "while guess != secret_number:\n",
    "    if(guess > secret_number):\n",
    "        print(\"Guess is too high\")\n",
    "    elif(guess < secret_number):\n",
    "        print(\"Guess is too low\")\n",
    "    guess = int(input(\"Guess a number: \"))\n",
    "\n",
    "print(\"You entered the right number!\")\n",
    "    \n"
   ]
  },
  {
   "cell_type": "code",
   "execution_count": 1,
   "id": "1c9a6eea-2da3-4231-a610-99196d67df65",
   "metadata": {},
   "outputs": [
    {
     "data": {
      "text/plain": [
       "30"
      ]
     },
     "execution_count": 1,
     "metadata": {},
     "output_type": "execute_result"
    }
   ],
   "source": [
    "#Functions is a physical entity. definition, declaration and prototype\n",
    "#pass by a reference check\n",
    "def sum():\n",
    "    a=10\n",
    "    b=20\n",
    "    result = a+b\n",
    "    return result\n",
    "\n",
    "sum()"
   ]
  },
  {
   "cell_type": "code",
   "execution_count": 1,
   "id": "acab26ad-b98e-4c92-b065-204f724eac6a",
   "metadata": {},
   "outputs": [
    {
     "data": {
      "text/plain": [
       "300"
      ]
     },
     "execution_count": 1,
     "metadata": {},
     "output_type": "execute_result"
    }
   ],
   "source": [
    "def area_of_rec():\n",
    "    length = 10\n",
    "    width = 30\n",
    "    area = length*width\n",
    "    return area\n",
    "\n",
    "area_of_rec()\n"
   ]
  },
  {
   "cell_type": "code",
   "execution_count": 2,
   "id": "a6f29fdf-1c86-49d1-b1f0-6fc9333082a9",
   "metadata": {},
   "outputs": [
    {
     "name": "stdin",
     "output_type": "stream",
     "text": [
      "Enter a number:  20\n"
     ]
    },
    {
     "name": "stdout",
     "output_type": "stream",
     "text": [
      "[0, 2, 4, 6, 8, 10, 12, 14, 16, 18]\n"
     ]
    }
   ],
   "source": [
    "def myfunc(num):\n",
    "    list = []\n",
    "    i=0\n",
    "    while(i<num):\n",
    "        if(i%2 == 0):\n",
    "            list.append(i)\n",
    "        i=i+1\n",
    "    print(list)\n",
    "\n",
    "limit = int(input(\"Enter a number: \"))\n",
    "myfunc(limit)\n",
    "\n",
    "    "
   ]
  },
  {
   "cell_type": "code",
   "execution_count": 5,
   "id": "4be62295-865c-45fc-b750-42644a19d839",
   "metadata": {},
   "outputs": [
    {
     "data": {
      "text/plain": [
       "35"
      ]
     },
     "execution_count": 5,
     "metadata": {},
     "output_type": "execute_result"
    }
   ],
   "source": [
    "#positional arguments *args. no need to use variables\n",
    "def add(*args):\n",
    "    sum = 0\n",
    "    for nums in args:\n",
    "        sum+=nums\n",
    "    return sum\n",
    "\n",
    "add(2,3,4,5,6,7,8)\n"
   ]
  },
  {
   "cell_type": "code",
   "execution_count": 14,
   "id": "c7186205-1fbc-414c-a438-89f624be2c7a",
   "metadata": {},
   "outputs": [
    {
     "name": "stdin",
     "output_type": "stream",
     "text": [
      "enter character:  r\n",
      "enter character:  t\n",
      "enter character:  g\n",
      "enter character:  i\n",
      "enter character:  o\n",
      "enter character:  c\n",
      "enter character:  f\n"
     ]
    },
    {
     "name": "stdout",
     "output_type": "stream",
     "text": [
      "['i', 'o']\n"
     ]
    }
   ],
   "source": [
    "def pos_ags_func(*args):\n",
    "    list = []\n",
    "    vowels = [\"a\", \"e\", \"i\", \"o\", \"u\"]\n",
    "    for i in args:\n",
    "        for j in vowels:\n",
    "            if(i == j):\n",
    "                list.append(i)\n",
    "    print(list)\n",
    "        \n",
    "char1 = input(\"enter character: \")\n",
    "char2 = input(\"enter character: \")\n",
    "char3 = input(\"enter character: \")\n",
    "char4 = input(\"enter character: \")\n",
    "char5 = input(\"enter character: \")\n",
    "char6 = input(\"enter character: \")\n",
    "char7 = input(\"enter character: \")\n",
    "\n",
    "pos_ags_func(char1, char2, char3, char4, char5, char6, char7)\n"
   ]
  },
  {
   "cell_type": "code",
   "execution_count": 2,
   "id": "bbebd5e3-582c-4a12-b089-1ebc2eabc586",
   "metadata": {},
   "outputs": [
    {
     "name": "stdin",
     "output_type": "stream",
     "text": [
      "enter character:  e\n",
      "enter character:  i\n",
      "enter character:  o\n",
      "enter character:  e\n",
      "enter character:  f\n",
      "enter character:  t\n",
      "enter character:  i\n"
     ]
    },
    {
     "name": "stdout",
     "output_type": "stream",
     "text": [
      "['e', 'i', 'o', 'e', 'i']\n"
     ]
    }
   ],
   "source": [
    "def pos_ags(*args):\n",
    "    list = []\n",
    "    vowels = ['a', 'e', 'i', 'o', 'u']\n",
    "    for i in args:\n",
    "        for j in vowels:\n",
    "            if i == j:\n",
    "                list.append(i)\n",
    "    print(list)\n",
    "\n",
    "char1 = input(\"enter character: \")\n",
    "char2 = input(\"enter character: \")\n",
    "char3 = input(\"enter character: \")\n",
    "char4 = input(\"enter character: \")\n",
    "char5 = input(\"enter character: \")\n",
    "char6 = input(\"enter character: \")\n",
    "char7 = input(\"enter character: \")\n",
    "\n",
    "pos_ags(char1, char2, char3, char4, char5, char6, char7)"
   ]
  },
  {
   "cell_type": "code",
   "execution_count": 3,
   "id": "6c32b0a6-ccbe-48e4-b606-41d08d3850ff",
   "metadata": {},
   "outputs": [],
   "source": [
    "#keyword parameters\n",
    "def print_details(**kwargs):\n",
    "    for value, key in kwargs.items():\n",
    "        print('f({key}:{value})')\n",
    "\n",
    "print_details()"
   ]
  },
  {
   "cell_type": "code",
   "execution_count": null,
   "id": "b76ee951-922f-4808-a931-4221f546d4f7",
   "metadata": {},
   "outputs": [],
   "source": []
  }
 ],
 "metadata": {
  "kernelspec": {
   "display_name": "Python 3 (ipykernel)",
   "language": "python",
   "name": "python3"
  },
  "language_info": {
   "codemirror_mode": {
    "name": "ipython",
    "version": 3
   },
   "file_extension": ".py",
   "mimetype": "text/x-python",
   "name": "python",
   "nbconvert_exporter": "python",
   "pygments_lexer": "ipython3",
   "version": "3.11.7"
  }
 },
 "nbformat": 4,
 "nbformat_minor": 5
}
